{
 "cells": [
  {
   "cell_type": "markdown",
   "metadata": {
    "colab_type": "text",
    "id": "4CHiESbrJZSg"
   },
   "source": [
    "# LetsUpgrade \n",
    "## 🏅 Weekly Code Battle - Week 6\n",
    "\n",
    "## Question \n",
    "You are Alicia Sierra who is a Police Inspector for the Spanish police.You have to deal with personal issues which are supposed to be more important than your work. Therefore, your personality shows that you are very strong as a person and will always choose your job over anything else. You are brought onto the case to stop the robbery of the Bank of Spain. You are also in charge of interrogating Rio when he was taken into custody in Part 3. Rio requested a phone call to his family after interrogation was over but you wanted to make sure he doesn't contact anyone else so you need to make sure all the other websites are blocked for him. Write a python program to block the website using libraries for Rio and also attach the screenshot of the output\n",
    "\n",
    "###CODED BY D.P.TEJASH - SJB INSTITUTE OF TECHNOLOGY"
   ]
  },
  {
   "cell_type": "code",
   "execution_count": 3,
   "metadata": {
    "colab": {
     "base_uri": "https://localhost:8080/",
     "height": 333
    },
    "colab_type": "code",
    "id": "8_R_xDd2Iu_H",
    "outputId": "569014ec-66fc-4ea6-8f0c-592850e94874"
   },
   "outputs": [
    {
     "name": "stdout",
     "output_type": "stream",
     "text": [
      "Access Denied, Asking for permission\n"
     ]
    },
    {
     "ename": "AttributeError",
     "evalue": "ignored",
     "output_type": "error",
     "traceback": [
      "\u001b[0;31m---------------------------------------------------------------------------\u001b[0m",
      "\u001b[0;31mAttributeError\u001b[0m                            Traceback (most recent call last)",
      "\u001b[0;32m<ipython-input-3-38b975b8edaa>\u001b[0m in \u001b[0;36m<module>\u001b[0;34m()\u001b[0m\n\u001b[1;32m     98\u001b[0m \u001b[0;34m\u001b[0m\u001b[0m\n\u001b[1;32m     99\u001b[0m \u001b[0;32mif\u001b[0m\u001b[0;34m(\u001b[0m\u001b[0m__name__\u001b[0m \u001b[0;34m==\u001b[0m \u001b[0;34m'__main__'\u001b[0m\u001b[0;34m)\u001b[0m\u001b[0;34m:\u001b[0m\u001b[0;34m\u001b[0m\u001b[0;34m\u001b[0m\u001b[0m\n\u001b[0;32m--> 100\u001b[0;31m     \u001b[0mmain\u001b[0m\u001b[0;34m(\u001b[0m\u001b[0;34m)\u001b[0m\u001b[0;34m\u001b[0m\u001b[0;34m\u001b[0m\u001b[0m\n\u001b[0m",
      "\u001b[0;32m<ipython-input-3-38b975b8edaa>\u001b[0m in \u001b[0;36mmain\u001b[0;34m()\u001b[0m\n\u001b[1;32m     76\u001b[0m     \u001b[0;32mif\u001b[0m\u001b[0;34m(\u001b[0m\u001b[0;32mnot\u001b[0m \u001b[0misAdmin\u001b[0m\u001b[0;34m(\u001b[0m\u001b[0;34m)\u001b[0m\u001b[0;34m)\u001b[0m\u001b[0;34m:\u001b[0m\u001b[0;34m\u001b[0m\u001b[0;34m\u001b[0m\u001b[0m\n\u001b[1;32m     77\u001b[0m         \u001b[0mprint\u001b[0m\u001b[0;34m(\u001b[0m\u001b[0;34m\"Access Denied, Asking for permission\"\u001b[0m\u001b[0;34m)\u001b[0m\u001b[0;34m\u001b[0m\u001b[0;34m\u001b[0m\u001b[0m\n\u001b[0;32m---> 78\u001b[0;31m         \u001b[0mctypes\u001b[0m\u001b[0;34m.\u001b[0m\u001b[0mwindll\u001b[0m\u001b[0;34m.\u001b[0m\u001b[0mshell32\u001b[0m\u001b[0;34m.\u001b[0m\u001b[0mShellExecuteW\u001b[0m\u001b[0;34m(\u001b[0m\u001b[0;32mNone\u001b[0m\u001b[0;34m,\u001b[0m \u001b[0;34m\"runas\"\u001b[0m\u001b[0;34m,\u001b[0m \u001b[0msys\u001b[0m\u001b[0;34m.\u001b[0m\u001b[0mexecutable\u001b[0m\u001b[0;34m,\u001b[0m \u001b[0m__file__\u001b[0m\u001b[0;34m,\u001b[0m \u001b[0;32mNone\u001b[0m\u001b[0;34m,\u001b[0m \u001b[0;36m1\u001b[0m\u001b[0;34m)\u001b[0m\u001b[0;34m\u001b[0m\u001b[0;34m\u001b[0m\u001b[0m\n\u001b[0m\u001b[1;32m     79\u001b[0m \u001b[0;34m\u001b[0m\u001b[0m\n\u001b[1;32m     80\u001b[0m     \u001b[0;32melse\u001b[0m\u001b[0;34m:\u001b[0m\u001b[0;34m\u001b[0m\u001b[0;34m\u001b[0m\u001b[0m\n",
      "\u001b[0;31mAttributeError\u001b[0m: module 'ctypes' has no attribute 'windll'"
     ]
    }
   ],
   "source": [
    "\n",
    "#Write a python program to block the website using libraries.\n",
    "\n",
    "import ctypes\n",
    "import sys\n",
    "import os\n",
    "import time\n",
    "\n",
    "#This function isAdmin() is to get permission from OS.\n",
    "def isAdmin():\n",
    "    try:\n",
    "        return ctypes.windll.shell32.IsUserAnAdmin()\n",
    "    except:\n",
    "        return False\n",
    "\n",
    "#This function blockIt(website) used to block the website.\n",
    "def blockIt(website):\n",
    "\n",
    "      f = open(\"C:\\\\Windows\\\\System32\\\\drivers\\\\etc\\\\hosts\", 'a+')\n",
    "\n",
    "      f.seek(0)\n",
    "      contents = f.read() #get the raw data of hosts\n",
    "\n",
    "      if(website in contents):\n",
    "          print(\"Website Already Blocked!\")\n",
    "      else:\n",
    "          local_host = \"127.0.0.1\"\n",
    "          f.write(\"\\n\")\n",
    "      # code below is to block the website given by the Alicia Sierra.\n",
    "          if('www' in website):\n",
    "              domain = website.replace('www.', '')\n",
    "              f.write(local_host + \" \" + website + \"\\n\")\n",
    "              f.write(local_host + \" \" + domain + \"\\n\")\n",
    "          else:\n",
    "              f.write(local_host + \" \" + website + \"\\n\")\n",
    "              f.write(local_host + \" www.\" + website + \"\\n\")\n",
    "\n",
    "          print(\"Blocked\")\n",
    "\n",
    "      f.close()\n",
    "      return \n",
    "\n",
    "#This function unblockIt(website) used to unblock the website.\n",
    "\n",
    "def unblockIt(website):\n",
    "\n",
    "    f = open(\"C:\\\\Windows\\\\System32\\\\drivers\\\\etc\\\\hosts\", \"r+\")\n",
    "    content = f.read() #get the raw data of hosts.\n",
    "    f.close()\n",
    "    # code below is to unblock the website given by the Alicia Sierra.\n",
    "    if website in content:\n",
    "        elem = content.split(\"\\n\")\n",
    "        newElem = []\n",
    "\n",
    "        for line in elem:\n",
    "            if(website not in line):\n",
    "                newElem.append(line)\n",
    "\n",
    "        finalContent = \"\\n\".join(newElem)\n",
    "\n",
    "        f = open(\"C:\\\\Windows\\\\System32\\\\drivers\\\\etc\\\\hosts\", \"w+\")\n",
    "        f.write(finalContent)\n",
    "        f.close()\n",
    "\n",
    "        print(\"Website Unblocked Successfully\\n\")\n",
    "    else:\n",
    "        print(\"website is not in blocked list\\n\")\n",
    "\n",
    "    return \n",
    "\n",
    "  \n",
    "\n",
    "\n",
    "def main():\n",
    "    #Checking for the permission from OS.\n",
    "    if(not isAdmin()):\n",
    "        print(\"Access Denied, Asking for permission\")\n",
    "        ctypes.windll.shell32.ShellExecuteW(None, \"runas\", sys.executable, __file__, None, 1)\n",
    "\n",
    "    else:\n",
    "        #If the permission is granted the following code execute.\n",
    "        print(\"Website Blocker:\\n\\n\")\n",
    "\n",
    "        web=[]\n",
    "        web =[item for item in input(\"Enter a website name/link to block: \").split()] # Here ,Alicia Sierra can give the website name's or website link's(should seperated by space) so that Roi  doesn't contact anyone else.\n",
    "        length = raw_input(\"how long(in miniutes) do you want to block the websites?\") # Here,Alicia Sierra for how long?\n",
    "\n",
    "        for website in web:\n",
    "            blockIt(website) # call function blockIt()\n",
    "\n",
    "        time.sleep(float(length) * 60) # THE duration(given by Alicia Sierra),website should be blocked during that.\n",
    "\n",
    "        for website in web:\n",
    "            unblockIt(website) # call function unblockIt()\n",
    "        \n",
    "    os.system(\"pause\")\n",
    "\n",
    "\n",
    "if(__name__ == '__main__'):\n",
    "    main()"
   ]
  }
 ],
 "metadata": {
  "colab": {
   "collapsed_sections": [],
   "name": "WEBSITE_BLOCKER_CODE.ipynb",
   "provenance": []
  },
  "kernelspec": {
   "display_name": "Python 3",
   "language": "python",
   "name": "python3"
  },
  "language_info": {
   "codemirror_mode": {
    "name": "ipython",
    "version": 3
   },
   "file_extension": ".py",
   "mimetype": "text/x-python",
   "name": "python",
   "nbconvert_exporter": "python",
   "pygments_lexer": "ipython3",
   "version": "3.7.6"
  }
 },
 "nbformat": 4,
 "nbformat_minor": 1
}
